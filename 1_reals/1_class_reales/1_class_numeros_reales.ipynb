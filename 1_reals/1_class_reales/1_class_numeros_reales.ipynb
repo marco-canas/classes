{
 "cells": [
  {
   "cell_type": "markdown",
   "id": "98cba88d",
   "metadata": {
    "slideshow": {
     "slide_type": "slide"
    }
   },
   "source": [
    "<table align=\"left\">\n",
    "  <td>\n",
    "    <a href=\"https://colab.research.google.com/github/marco-canas/3_fundamentos-de-las-matematicas/blob/main/classes/1_reals/1_class_reales/1_class_numeros_reales.ipynb\" target=\"_parent\"><img src=\"https://colab.research.google.com/assets/colab-badge.svg\" alt=\"Open In Colab\"/></a>\n",
    "  </td>\n",
    "</table>"
   ]
  },
  {
   "cell_type": "markdown",
   "id": "5271ad51",
   "metadata": {},
   "source": [
    "Esta clase es un servicio de enseñanza a estos valiosos estudiantes:\n",
    "\n",
    "<img src = 'https://github.com/marco-canas/3_fundamentos-de-las-matematicas/blob/main/images/photos/estudiantes_lic_math_2023-08-01.jpeg?raw=true' width = 513>"
   ]
  },
  {
   "cell_type": "markdown",
   "id": "294ecdc2",
   "metadata": {
    "slideshow": {
     "slide_type": "slide"
    }
   },
   "source": [
    "## [Descripción de la lista de reproducción de apoyo al aprendizaje]()"
   ]
  },
  {
   "cell_type": "markdown",
   "id": "1b425011",
   "metadata": {
    "slideshow": {
     "slide_type": "slide"
    }
   },
   "source": [
    "* la tuplas en python\n",
    "* cómo definir funciones\n",
    "* La documentación de las funciones en Python \n",
    "* el módulo pyplot de la librería matplitlib\n",
    "* el módulo animation de la librería matplotlib\n"
   ]
  },
  {
   "cell_type": "markdown",
   "id": "c963b5fc",
   "metadata": {},
   "source": [
    "# Programa del curso de Fundamentos de las matemáticas y vículo de la página del programa:\n",
    "\n",
    "* [Programa del curso de Fundamentos de las matemáticas en GitHub](https://github.com/marco-canas/3_fundamentos-de-las-matematicas)\n",
    "\n",
    "* [Programa de Licenciatura en matemáticas](https://www.udea.edu.co/wps/portal/udea/web/inicio/unidades-academicas/educacion/oferta-pregrado/licenciatura-matematicas)"
   ]
  },
  {
   "cell_type": "markdown",
   "id": "fef8a4d0",
   "metadata": {
    "slideshow": {
     "slide_type": "slide"
    }
   },
   "source": [
    "# Clase 1 Febrero 9. Números reales"
   ]
  },
  {
   "cell_type": "markdown",
   "id": "afe553bf",
   "metadata": {
    "slideshow": {
     "slide_type": "slide"
    }
   },
   "source": [
    "## Modelo pedagógico de aula invertida"
   ]
  },
  {
   "cell_type": "markdown",
   "id": "2531caea",
   "metadata": {
    "slideshow": {
     "slide_type": "slide"
    }
   },
   "source": [
    "¿Que pasa cuando divides enteros?"
   ]
  },
  {
   "cell_type": "markdown",
   "id": "e2f09cc6",
   "metadata": {
    "slideshow": {
     "slide_type": "slide"
    }
   },
   "source": [
    "# Título del Seminario: \"Introducción a los Números Reales como Estructura Algebraica de Campo con Python y SymPy\"\n"
   ]
  },
  {
   "cell_type": "markdown",
   "id": "53469c77",
   "metadata": {},
   "source": [
    "\n",
    "Descripción del Seminario:\n",
    "Este seminario tiene como objetivo proporcionar una introducción práctica a los números reales como estructura algebraica de campo utilizando el lenguaje de programación Python y la librería SymPy. Los participantes aprenderán a utilizar Python para realizar operaciones algebraicas en los números reales y comprenderán cómo estas propiedades se relacionan con la estructura de campo.\n",
    "\n",
    "Duración: 2 horas (puede variar según las necesidades y nivel de conocimiento de los participantes)\n",
    "\n",
    "Requisitos previos:\n",
    "- Conocimientos básicos de álgebra y programación en Python.\n",
    "- Tener instalada la librería SymPy en Python (se proporcionará información sobre cómo instalarla antes del seminario).\n",
    "\n",
    "Temario:\n",
    "\n",
    "1. Introducción a los Números Reales y la Estructura de Campo\n",
    "   - Definición de los números reales.\n",
    "   - Propiedades de los números reales como estructura de campo (adición, multiplicación, inversos, distributividad).\n",
    "\n",
    "2. Introducción a SymPy\n",
    "   - ¿Qué es SymPy y por qué usarlo para álgebra simbólica?\n",
    "   - Instalación de SymPy y configuración del entorno de trabajo.\n",
    "\n",
    "3. Operaciones Básicas con Números Reales en SymPy\n",
    "   - Suma, resta, multiplicación y división de números reales con SymPy.\n",
    "   - Simplificación y evaluación de expresiones algebraicas.\n",
    "\n",
    "4. Propiedades de los Números Reales con SymPy\n",
    "   - Verificación de las propiedades de la estructura de campo usando SymPy.\n",
    "   - Demostraciones algebraicas con SymPy.\n",
    "\n",
    "5. Resolución de Ecuaciones en los Números Reales\n",
    "   - Resolución de ecuaciones lineales y cuadráticas con SymPy.\n",
    "   - Interpretación gráfica de las soluciones en el plano cartesiano.\n",
    "\n",
    "6. Aplicaciones Prácticas\n",
    "   - Aplicación de los números reales y SymPy en problemas de ingeniería, ciencias y matemáticas.\n",
    "\n",
    "7. Proyecto Práctico\n",
    "   - Los participantes resolverán un problema que involucre operaciones con números reales utilizando SymPy.\n",
    "   - Presentación y discusión de las soluciones.\n",
    "\n",
    "Metodología:\n",
    "- El seminario se llevará a cabo en un entorno virtual que permitirá la interacción con los participantes.\n",
    "- Se proporcionarán ejemplos prácticos y ejercicios para que los participantes puedan aplicar los conceptos aprendidos durante el seminario.\n",
    "- El instructor estará disponible para responder preguntas y brindar asistencia durante todo el seminario.\n",
    "\n",
    "Nota: La estructura y duración del seminario pueden ajustarse según las necesidades y nivel de conocimiento de los participantes. Además, el enfoque de las aplicaciones prácticas puede personalizarse para adaptarse a las áreas de interés específicas de los asistentes."
   ]
  },
  {
   "cell_type": "code",
   "execution_count": 2,
   "id": "a1569e67",
   "metadata": {
    "slideshow": {
     "slide_type": "slide"
    }
   },
   "outputs": [
    {
     "data": {
      "text/plain": [
       "1.0"
      ]
     },
     "execution_count": 2,
     "metadata": {},
     "output_type": "execute_result"
    }
   ],
   "source": [
    "1/2+1/2"
   ]
  },
  {
   "cell_type": "code",
   "execution_count": 3,
   "id": "a7fcf5bf",
   "metadata": {
    "slideshow": {
     "slide_type": "slide"
    }
   },
   "outputs": [
    {
     "data": {
      "text/plain": [
       "0.3333333333333333"
      ]
     },
     "execution_count": 3,
     "metadata": {},
     "output_type": "execute_result"
    }
   ],
   "source": [
    "1/3"
   ]
  },
  {
   "cell_type": "markdown",
   "id": "c9c6a130",
   "metadata": {},
   "source": [
    "Conclusion: si divido enteros me da resultado de representacion decimal finita o infinita periodica"
   ]
  },
  {
   "cell_type": "code",
   "execution_count": 4,
   "id": "9a568bc4",
   "metadata": {
    "slideshow": {
     "slide_type": "slide"
    }
   },
   "outputs": [
    {
     "data": {
      "text/plain": [
       "0.6842105263157895"
      ]
     },
     "execution_count": 4,
     "metadata": {},
     "output_type": "execute_result"
    }
   ],
   "source": [
    "13/19"
   ]
  },
  {
   "cell_type": "markdown",
   "id": "f93c30f3",
   "metadata": {
    "slideshow": {
     "slide_type": "slide"
    }
   },
   "source": [
    "Conclusión\n",
    "La palabra racional es de razón y en matemáticas razón es division. Y en este caso división de enteros."
   ]
  },
  {
   "cell_type": "markdown",
   "id": "c63a3da9",
   "metadata": {
    "slideshow": {
     "slide_type": "slide"
    }
   },
   "source": [
    "# Tipos de números en Python"
   ]
  },
  {
   "cell_type": "markdown",
   "id": "d0d7c2d4",
   "metadata": {
    "slideshow": {
     "slide_type": "slide"
    }
   },
   "source": [
    "Los tipos de números de python que veremos por ahora son:\n",
    "\n",
    "1. int\n",
    "2. float"
   ]
  },
  {
   "cell_type": "code",
   "execution_count": 5,
   "id": "25d2aa76",
   "metadata": {
    "slideshow": {
     "slide_type": "slide"
    }
   },
   "outputs": [],
   "source": [
    "numero_de_estudiantes=18"
   ]
  },
  {
   "cell_type": "code",
   "execution_count": 6,
   "id": "7ebefa75",
   "metadata": {
    "slideshow": {
     "slide_type": "slide"
    }
   },
   "outputs": [
    {
     "data": {
      "text/plain": [
       "int"
      ]
     },
     "execution_count": 6,
     "metadata": {},
     "output_type": "execute_result"
    }
   ],
   "source": [
    "type(numero_de_estudiantes)"
   ]
  },
  {
   "cell_type": "code",
   "execution_count": 7,
   "id": "9c49ad09",
   "metadata": {
    "slideshow": {
     "slide_type": "slide"
    }
   },
   "outputs": [],
   "source": [
    "estaturas_de_los_estudiantes = [1.65,1.55, 1.56, 1.74, 1.80]"
   ]
  },
  {
   "cell_type": "code",
   "execution_count": 9,
   "id": "0d7ebb92",
   "metadata": {
    "slideshow": {
     "slide_type": "slide"
    }
   },
   "outputs": [
    {
     "data": {
      "text/plain": [
       "float"
      ]
     },
     "execution_count": 9,
     "metadata": {},
     "output_type": "execute_result"
    }
   ],
   "source": [
    "type(estaturas_de_los_estudiantes[0])"
   ]
  },
  {
   "cell_type": "code",
   "execution_count": 10,
   "id": "8dae2aec",
   "metadata": {
    "slideshow": {
     "slide_type": "slide"
    }
   },
   "outputs": [
    {
     "data": {
      "text/plain": [
       "float"
      ]
     },
     "execution_count": 10,
     "metadata": {},
     "output_type": "execute_result"
    }
   ],
   "source": [
    "type(1.12345678901234567894434466787)"
   ]
  },
  {
   "cell_type": "code",
   "execution_count": null,
   "id": "535a02c7",
   "metadata": {
    "slideshow": {
     "slide_type": "slide"
    }
   },
   "outputs": [],
   "source": []
  },
  {
   "cell_type": "markdown",
   "id": "3e304bd2",
   "metadata": {
    "slideshow": {
     "slide_type": "slide"
    }
   },
   "source": [
    "# [Apéndice sobre Plotly](https://plotly.com/python/getting-started/) "
   ]
  },
  {
   "cell_type": "markdown",
   "id": "c5770069",
   "metadata": {
    "slideshow": {
     "slide_type": "slide"
    }
   },
   "source": [
    "# Tareas de fijación de conceptos y adquisición de habilidades"
   ]
  },
  {
   "cell_type": "markdown",
   "id": "fa400586",
   "metadata": {
    "slideshow": {
     "slide_type": "slide"
    }
   },
   "source": [
    "<img src =''> "
   ]
  },
  {
   "cell_type": "markdown",
   "id": "b3fcf153",
   "metadata": {
    "slideshow": {
     "slide_type": "slide"
    }
   },
   "source": [
    "# Evaluación (Ejercicios tipo parcial o tipo quiz)"
   ]
  },
  {
   "cell_type": "code",
   "execution_count": null,
   "id": "23af4107",
   "metadata": {
    "slideshow": {
     "slide_type": "slide"
    }
   },
   "outputs": [],
   "source": []
  },
  {
   "cell_type": "markdown",
   "id": "e2a6d2d2",
   "metadata": {
    "slideshow": {
     "slide_type": "slide"
    }
   },
   "source": [
    "## Referentes  \n",
    "\n",
    "* Geron, A. Math - Differential Calculus: https://github.com/ageron/handson-ml2/blob/master/math_differential_calculus.ipynb\n",
    "\n",
    "* Larson \n",
    "\n",
    "* chat GPT from openAI: https://openai.com/blog/chatgpt/\n",
    "\n",
    "* Getting Started with Plotly in Python : https://plotly.com/python/getting-started/"
   ]
  },
  {
   "cell_type": "code",
   "execution_count": null,
   "id": "b5a4cdff",
   "metadata": {},
   "outputs": [],
   "source": []
  }
 ],
 "metadata": {
  "celltoolbar": "Slideshow",
  "kernelspec": {
   "display_name": "Python 3 (ipykernel)",
   "language": "python",
   "name": "python3"
  },
  "language_info": {
   "codemirror_mode": {
    "name": "ipython",
    "version": 3
   },
   "file_extension": ".py",
   "mimetype": "text/x-python",
   "name": "python",
   "nbconvert_exporter": "python",
   "pygments_lexer": "ipython3",
   "version": "3.9.13"
  },
  "rise": {
   "enable_chalkboard": true,
   "theme": "sky"
  }
 },
 "nbformat": 4,
 "nbformat_minor": 5
}
