{
 "cells": [
  {
   "cell_type": "markdown",
   "id": "98cba88d",
   "metadata": {
    "slideshow": {
     "slide_type": "slide"
    }
   },
   "source": [
    "<table align=\"left\">\n",
    "  <td>\n",
    "    <a href=\"https://colab.research.google.com/github/marco-canas/algebra/blob/main/classes/ciencia_datos/1_class/1_class.ipynb\" target=\"_parent\"><img src=\"https://colab.research.google.com/assets/colab-badge.svg\" alt=\"Open In Colab\"/></a>\n",
    "  </td>\n",
    "</table>"
   ]
  },
  {
   "cell_type": "markdown",
   "id": "294ecdc2",
   "metadata": {
    "slideshow": {
     "slide_type": "slide"
    }
   },
   "source": [
    "## [Descripción de la lista de repreducción de apoyo al aprendizaje]()"
   ]
  },
  {
   "cell_type": "markdown",
   "id": "1b425011",
   "metadata": {
    "slideshow": {
     "slide_type": "slide"
    }
   },
   "source": [
    "* la tuplas en python\n",
    "* cómo definir funciones\n",
    "* La documentación de las funciones en Python \n",
    "* el módulo pyplot de la librería matplitlib\n",
    "* el módulo animation de la librería matplotlib\n"
   ]
  },
  {
   "cell_type": "markdown",
   "id": "fef8a4d0",
   "metadata": {
    "slideshow": {
     "slide_type": "slide"
    }
   },
   "source": [
    "# Clase 1 Febrero 9. Números reales"
   ]
  },
  {
   "cell_type": "markdown",
   "id": "afe553bf",
   "metadata": {
    "slideshow": {
     "slide_type": "slide"
    }
   },
   "source": [
    "## Modelo pedagógico de aula invertida"
   ]
  },
  {
   "cell_type": "markdown",
   "id": "2531caea",
   "metadata": {
    "slideshow": {
     "slide_type": "slide"
    }
   },
   "source": [
    "¿Que pasa cuando divides enteros?"
   ]
  },
  {
   "cell_type": "code",
   "execution_count": 1,
   "id": "e2f09cc6",
   "metadata": {
    "slideshow": {
     "slide_type": "slide"
    }
   },
   "outputs": [
    {
     "data": {
      "text/plain": [
       "0.5"
      ]
     },
     "execution_count": 1,
     "metadata": {},
     "output_type": "execute_result"
    }
   ],
   "source": [
    "1/2"
   ]
  },
  {
   "cell_type": "code",
   "execution_count": 2,
   "id": "a1569e67",
   "metadata": {
    "slideshow": {
     "slide_type": "slide"
    }
   },
   "outputs": [
    {
     "data": {
      "text/plain": [
       "1.0"
      ]
     },
     "execution_count": 2,
     "metadata": {},
     "output_type": "execute_result"
    }
   ],
   "source": [
    "1/2+1/2"
   ]
  },
  {
   "cell_type": "code",
   "execution_count": 3,
   "id": "a7fcf5bf",
   "metadata": {
    "slideshow": {
     "slide_type": "slide"
    }
   },
   "outputs": [
    {
     "data": {
      "text/plain": [
       "0.3333333333333333"
      ]
     },
     "execution_count": 3,
     "metadata": {},
     "output_type": "execute_result"
    }
   ],
   "source": [
    "1/3"
   ]
  },
  {
   "cell_type": "markdown",
   "id": "c9c6a130",
   "metadata": {},
   "source": [
    "Conclusion: si divido enteros me da resultado de representacion decimal finita o infinita periodica"
   ]
  },
  {
   "cell_type": "code",
   "execution_count": 4,
   "id": "9a568bc4",
   "metadata": {
    "slideshow": {
     "slide_type": "slide"
    }
   },
   "outputs": [
    {
     "data": {
      "text/plain": [
       "0.6842105263157895"
      ]
     },
     "execution_count": 4,
     "metadata": {},
     "output_type": "execute_result"
    }
   ],
   "source": [
    "13/19"
   ]
  },
  {
   "cell_type": "markdown",
   "id": "f93c30f3",
   "metadata": {
    "slideshow": {
     "slide_type": "slide"
    }
   },
   "source": [
    "Conclusión\n",
    "La palabra racional es de razón y en matemáticas razón es division. Y en este caso división de enteros."
   ]
  },
  {
   "cell_type": "markdown",
   "id": "c63a3da9",
   "metadata": {
    "slideshow": {
     "slide_type": "slide"
    }
   },
   "source": [
    "# Tipos de números en Python"
   ]
  },
  {
   "cell_type": "markdown",
   "id": "d0d7c2d4",
   "metadata": {
    "slideshow": {
     "slide_type": "slide"
    }
   },
   "source": [
    "Los tipos de números de python que veremos por ahora son:\n",
    "\n",
    "1. int\n",
    "2. float"
   ]
  },
  {
   "cell_type": "code",
   "execution_count": 5,
   "id": "25d2aa76",
   "metadata": {
    "slideshow": {
     "slide_type": "slide"
    }
   },
   "outputs": [],
   "source": [
    "numero_de_estudiantes=18"
   ]
  },
  {
   "cell_type": "code",
   "execution_count": 6,
   "id": "7ebefa75",
   "metadata": {
    "slideshow": {
     "slide_type": "slide"
    }
   },
   "outputs": [
    {
     "data": {
      "text/plain": [
       "int"
      ]
     },
     "execution_count": 6,
     "metadata": {},
     "output_type": "execute_result"
    }
   ],
   "source": [
    "type(numero_de_estudiantes)"
   ]
  },
  {
   "cell_type": "code",
   "execution_count": 7,
   "id": "9c49ad09",
   "metadata": {
    "slideshow": {
     "slide_type": "slide"
    }
   },
   "outputs": [],
   "source": [
    "estaturas_de_los_estudiantes = [1.65,1.55, 1.56, 1.74, 1.80]"
   ]
  },
  {
   "cell_type": "code",
   "execution_count": 9,
   "id": "0d7ebb92",
   "metadata": {
    "slideshow": {
     "slide_type": "slide"
    }
   },
   "outputs": [
    {
     "data": {
      "text/plain": [
       "float"
      ]
     },
     "execution_count": 9,
     "metadata": {},
     "output_type": "execute_result"
    }
   ],
   "source": [
    "type(estaturas_de_los_estudiantes[0])"
   ]
  },
  {
   "cell_type": "code",
   "execution_count": 10,
   "id": "8dae2aec",
   "metadata": {
    "slideshow": {
     "slide_type": "slide"
    }
   },
   "outputs": [
    {
     "data": {
      "text/plain": [
       "float"
      ]
     },
     "execution_count": 10,
     "metadata": {},
     "output_type": "execute_result"
    }
   ],
   "source": [
    "type(1.12345678901234567894434466787)"
   ]
  },
  {
   "cell_type": "code",
   "execution_count": null,
   "id": "535a02c7",
   "metadata": {
    "slideshow": {
     "slide_type": "slide"
    }
   },
   "outputs": [],
   "source": []
  },
  {
   "cell_type": "markdown",
   "id": "3e304bd2",
   "metadata": {
    "slideshow": {
     "slide_type": "slide"
    }
   },
   "source": [
    "# [Apéndice sobre Plotly](https://plotly.com/python/getting-started/) "
   ]
  },
  {
   "cell_type": "markdown",
   "id": "c5770069",
   "metadata": {
    "slideshow": {
     "slide_type": "slide"
    }
   },
   "source": [
    "# Tareas de fijación de conceptos y adquisición de habilidades"
   ]
  },
  {
   "cell_type": "markdown",
   "id": "fa400586",
   "metadata": {
    "slideshow": {
     "slide_type": "slide"
    }
   },
   "source": [
    "<img src =''> "
   ]
  },
  {
   "cell_type": "markdown",
   "id": "b3fcf153",
   "metadata": {
    "slideshow": {
     "slide_type": "slide"
    }
   },
   "source": [
    "# Evaluación (Ejercicios tipo parcial o tipo quiz)"
   ]
  },
  {
   "cell_type": "code",
   "execution_count": null,
   "id": "23af4107",
   "metadata": {
    "slideshow": {
     "slide_type": "slide"
    }
   },
   "outputs": [],
   "source": []
  },
  {
   "cell_type": "markdown",
   "id": "e2a6d2d2",
   "metadata": {
    "slideshow": {
     "slide_type": "slide"
    }
   },
   "source": [
    "## Referentes  \n",
    "\n",
    "* Geron, A. Math - Differential Calculus: https://github.com/ageron/handson-ml2/blob/master/math_differential_calculus.ipynb\n",
    "\n",
    "* Larson \n",
    "\n",
    "* chat GPT from openAI: https://openai.com/blog/chatgpt/\n",
    "\n",
    "* Getting Started with Plotly in Python : https://plotly.com/python/getting-started/"
   ]
  },
  {
   "cell_type": "code",
   "execution_count": null,
   "id": "b5a4cdff",
   "metadata": {},
   "outputs": [],
   "source": []
  }
 ],
 "metadata": {
  "celltoolbar": "Slideshow",
  "kernelspec": {
   "display_name": "Python 3 (ipykernel)",
   "language": "python",
   "name": "python3"
  },
  "language_info": {
   "codemirror_mode": {
    "name": "ipython",
    "version": 3
   },
   "file_extension": ".py",
   "mimetype": "text/x-python",
   "name": "python",
   "nbconvert_exporter": "python",
   "pygments_lexer": "ipython3",
   "version": "3.9.13"
  },
  "rise": {
   "enable_chalkboard": true,
   "theme": "sky"
  }
 },
 "nbformat": 4,
 "nbformat_minor": 5
}
