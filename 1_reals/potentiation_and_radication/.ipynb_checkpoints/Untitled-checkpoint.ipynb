{
 "cells": [
  {
   "cell_type": "markdown",
   "id": "39e12e66",
   "metadata": {},
   "source": []
  },
  {
   "cell_type": "markdown",
   "id": "e7d8bc37",
   "metadata": {},
   "source": []
  },
  {
   "cell_type": "markdown",
   "id": "56da1bb7",
   "metadata": {},
   "source": [
    "## Potenciación y radicación en $\\mathbb{R}$"
   ]
  },
  {
   "cell_type": "markdown",
   "id": "129bc521",
   "metadata": {},
   "source": []
  },
  {
   "cell_type": "markdown",
   "id": "7c89cfab",
   "metadata": {},
   "source": [
    "## Potenciación de exponente entero positivo"
   ]
  },
  {
   "cell_type": "markdown",
   "id": "e9cb72ad",
   "metadata": {},
   "source": [
    "Sea $a \\in \\mathbb{R}^{+}$ distinto uno.   \n",
    "\n",
    "¿qué significa?\n",
    "$$ a^{n} $$\n",
    "\n",
    "cuando $n \\in \\mathbb{Z}^{+}$"
   ]
  },
  {
   "cell_type": "markdown",
   "id": "e99a9678",
   "metadata": {},
   "source": [
    "$$ a^{n} = \\underbrace{a \\cdot a \\cdot \\cdots a}_{n \\text{ veces}} $$"
   ]
  },
  {
   "cell_type": "markdown",
   "id": "14a08519",
   "metadata": {},
   "source": [
    "## Ejemplo\n",
    "\n",
    "\n",
    "$$ 3^{2} = 3 \\cdot 3 = 9 $$"
   ]
  },
  {
   "cell_type": "markdown",
   "id": "aeb54790",
   "metadata": {},
   "source": [
    "$$ 3^{4} = 3 \\cdot 3 \\cdot 3 \\cdot 3  = 81$$"
   ]
  },
  {
   "cell_type": "markdown",
   "id": "08223035",
   "metadata": {},
   "source": [
    "# Potenciación de entero negativo"
   ]
  },
  {
   "cell_type": "markdown",
   "id": "c62b7d3b",
   "metadata": {},
   "source": [
    "$$ a^{n} $$ cuando $n$ es un entero negativo:\n",
    "\n",
    "$$ 2^{-1}: \\text{inverso multiplicativo o recíproco} $$\n",
    "\n",
    "$$ 2^{-1} = \\frac{1}{2} = 0.5 $$"
   ]
  },
  {
   "cell_type": "code",
   "execution_count": 1,
   "id": "a46c71e2",
   "metadata": {},
   "outputs": [
    {
     "data": {
      "text/plain": [
       "0.5"
      ]
     },
     "execution_count": 1,
     "metadata": {},
     "output_type": "execute_result"
    }
   ],
   "source": [
    "2**-1"
   ]
  },
  {
   "cell_type": "code",
   "execution_count": null,
   "id": "63eb99e3",
   "metadata": {},
   "outputs": [],
   "source": []
  }
 ],
 "metadata": {
  "kernelspec": {
   "display_name": "Python 3 (ipykernel)",
   "language": "python",
   "name": "python3"
  },
  "language_info": {
   "codemirror_mode": {
    "name": "ipython",
    "version": 3
   },
   "file_extension": ".py",
   "mimetype": "text/x-python",
   "name": "python",
   "nbconvert_exporter": "python",
   "pygments_lexer": "ipython3",
   "version": "3.9.13"
  }
 },
 "nbformat": 4,
 "nbformat_minor": 5
}
