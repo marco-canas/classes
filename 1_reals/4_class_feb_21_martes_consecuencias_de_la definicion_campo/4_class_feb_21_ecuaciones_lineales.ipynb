{
 "cells": [
  {
   "cell_type": "markdown",
   "id": "01b5c32c",
   "metadata": {
    "slideshow": {
     "slide_type": "subslide"
    }
   },
   "source": []
  },
  {
   "cell_type": "markdown",
   "id": "bffe2f55",
   "metadata": {
    "slideshow": {
     "slide_type": "slide"
    }
   },
   "source": []
  },
  {
   "cell_type": "markdown",
   "id": "82616a5a",
   "metadata": {
    "slideshow": {
     "slide_type": "slide"
    }
   },
   "source": [
    "# Clase 4 Del 21 de febrero. Inferencias de ver a R como estructura de campo\n"
   ]
  },
  {
   "cell_type": "markdown",
   "id": "291ad6fb",
   "metadata": {
    "slideshow": {
     "slide_type": "slide"
    }
   },
   "source": [
    "## Objetivo\n",
    "Objetivos generales del núcleo:\n",
    "1. Desarrollar competencias analíticas, sintéticas, operativas, interpretativas y gráficas, en el estudio de temas propios de las matemáticas y el cálculo.\n",
    "2. Discutir situaciones contextuales, fenómenos, problemas intra o extramatemáticos, de naturaleza variacional, que favorezcan la comprensión y utilización de conceptos y representaciones matemáticas variacionales que los modelen.\n",
    "\n",
    "Propuesta de evaluación\n",
    "Parciales: 60% (3 o 4, dependiendo del curso).\n",
    "Seguimiento: 15% (quices, pruebas cortas, tareas, trabajos, talleres, participación, pequeña presentación).\n",
    "Trabajo final: 20% (video explicando alguna aplicación o ejercicio, ensayo sobre artículo en inglés, exposición, trabajo sobre uso de herramienta digital…).\n"
   ]
  },
  {
   "cell_type": "markdown",
   "id": "cf24623f",
   "metadata": {
    "slideshow": {
     "slide_type": "slide"
    }
   },
   "source": [
    "# Modelos lineales y ritmos o velocidades de cambio\n"
   ]
  },
  {
   "cell_type": "markdown",
   "id": "db5392e6",
   "metadata": {
    "slideshow": {
     "slide_type": "slide"
    }
   },
   "source": [
    "* Encontrar la pendiente de una recta que pasa por dos puntos.  \n",
    "* Escribir la ecuación de una recta dados un punto y su pendiente.  \n",
    "* Interpretar la pendiente como razón o ritmo en aplicaciones cotidianas.  \n",
    "* Trazar la gráfica de una ecuación lineal en la forma pendiente-intersección.  \n",
    "* Escribir las ecuaciones de rectas que son paralelas o perpendiculares a una recta dada.\n"
   ]
  },
  {
   "cell_type": "markdown",
   "id": "944b134a",
   "metadata": {
    "slideshow": {
     "slide_type": "slide"
    }
   },
   "source": [
    "# La pendiente de una recta  \n",
    "\n",
    "La pendiente de una recta no vertical es una medida del número de unidades que la recta asciende (o desciende) verticalmente por cada unidad de variación horizontal de izquierda a derecha. Considerar los dos puntos $(x1, y1)$ y $(x2, y2)$ de la recta de la figura P.12.   "
   ]
  },
  {
   "cell_type": "markdown",
   "id": "4678f024",
   "metadata": {
    "slideshow": {
     "slide_type": "slide"
    }
   },
   "source": [
    "Al desplazarse de izquierda a derecha por la recta, se produce una variación vertical de  \n",
    "\n",
    "\n",
    "$$\\Delta y = y_{2} - y_{1} \\ \\ \\ \\text{cambio en} \\ y$$ Cambio en y.  \n",
    "\n",
    "unidades por cada variación horizontal de  \n",
    "\n",
    "$$ \\Delta x = x_{2} - x_{1}\\ \\ \\ \\text{Cambio en }\\  x. $$\n",
    "\n",
    "unidades. ($\\Delta$ es la letra griega delta mayúscula y los símbolos $\\Delta y$ y $\\Delta x$ se leen “delta de $y$” \n",
    "y “delta de $x$”.)"
   ]
  },
  {
   "cell_type": "markdown",
   "id": "0d865d09",
   "metadata": {
    "slideshow": {
     "slide_type": "slide"
    }
   },
   "source": [
    "# Ecuaciones de las rectas"
   ]
  },
  {
   "cell_type": "markdown",
   "id": "3096b0a4",
   "metadata": {
    "slideshow": {
     "slide_type": "slide"
    }
   },
   "source": [
    "Para calcular la pendiente de una recta pueden utilizarse dos de sus puntos cualesquiera. Esto puede verificarse con ayuda de los triángulos semejantes de la figura P.14. (Recordar que los cocientes de los lados correspondientes de dos triángulos semejantes son todos iguales.)"
   ]
  },
  {
   "cell_type": "markdown",
   "id": "52006ed9",
   "metadata": {
    "slideshow": {
     "slide_type": "slide"
    }
   },
   "source": [
    "# EXPLORACIÓN"
   ]
  },
  {
   "cell_type": "markdown",
   "id": "0e23bc0b",
   "metadata": {
    "slideshow": {
     "slide_type": "slide"
    }
   },
   "source": [
    "## Estudio de ecuaciones de rectas"
   ]
  },
  {
   "cell_type": "markdown",
   "id": "1a274359",
   "metadata": {
    "slideshow": {
     "slide_type": "slide"
    }
   },
   "source": [
    "Utilizar una herramienta de graficación para dibujar cada una de las siguientes ecuaciones lineales.   \n",
    "\n",
    "¿Qué punto es común a las siete rectas?   \n",
    "\n",
    "¿Qué número determina la pendiente de la recta en cada ecuación?  \n",
    "\n",
    " a) $y-4 = -2(x + 1)$\n",
    " b) $y - 4 = -1(x+1)$  \n",
    " c)   \n",
    " d)   \n",
    " e)   \n",
    " f)   \n",
    " g)    \n",
    " \n",
    "Utilizar los resultados para construir la ecuación de una recta que pase por $(-1, 4)$ con una pendiente de $m$. "
   ]
  },
  {
   "cell_type": "code",
   "execution_count": 15,
   "id": "a843c689",
   "metadata": {
    "slideshow": {
     "slide_type": "slide"
    }
   },
   "outputs": [
    {
     "data": {
      "application/vnd.jupyter.widget-view+json": {
       "model_id": "e57bc4d94a6c49d9bac5edead8bfea71",
       "version_major": 2,
       "version_minor": 0
      },
      "text/plain": [
       "interactive(children=(IntSlider(value=0, description='m', max=3, min=-3), Output()), _dom_classes=('widget-int…"
      ]
     },
     "metadata": {},
     "output_type": "display_data"
    }
   ],
   "source": [
    "import numpy as np \n",
    "import matplotlib.pyplot as plt   \n",
    "\n",
    "from ipywidgets import interact \n",
    "a,b = 6, 12\n",
    "h,k = 0,0\n",
    "\n",
    "def visualizar_pendiente(m = 0):\n",
    "    plt.figure(figsize = (6,6))\n",
    "    plt.axis([-5,5,-12,12])\n",
    "    plt.grid(alpha = 0.4)\n",
    "    x = np.arange(-4,5, 4)\n",
    "    y = m*(x-h) + k\n",
    "    plt.plot(x,y, color = 'red')\n",
    "    plt.plot([-a,a], [0,0], 'g-', alpha = 0.3) # eje horizontal \n",
    "    plt.plot([0,0], [-b,b], 'g-', alpha = 0.3) # eje horizontal \n",
    "    \n",
    "    \n",
    "interact(visualizar_pendiente, m = (-3,3)) \n",
    "\n",
    "plt.show() \n"
   ]
  },
  {
   "cell_type": "markdown",
   "id": "d9891449",
   "metadata": {
    "slideshow": {
     "slide_type": "slide"
    }
   },
   "source": [
    "# Función biyectiva de $N$ en $Z$ (con $0 \\notin N$)"
   ]
  },
  {
   "cell_type": "code",
   "execution_count": 16,
   "id": "b6090879",
   "metadata": {
    "slideshow": {
     "slide_type": "slide"
    }
   },
   "outputs": [],
   "source": [
    "def funcion_biyectiva(n):\n",
    "    if n%2==0:\n",
    "        f = n/2\n",
    "    elif n%2==1:\n",
    "        f=-(n-1)/2\n",
    "    return f    "
   ]
  },
  {
   "cell_type": "code",
   "execution_count": 17,
   "id": "e3000246",
   "metadata": {},
   "outputs": [],
   "source": [
    "import numpy as np "
   ]
  },
  {
   "cell_type": "code",
   "execution_count": 22,
   "id": "ce679544",
   "metadata": {
    "slideshow": {
     "slide_type": "slide"
    }
   },
   "outputs": [
    {
     "data": {
      "text/plain": [
       "array([ 1,  2,  3,  4,  5,  6,  7,  8,  9, 10, 11, 12, 13, 14, 15, 16, 17,\n",
       "       18, 19, 20])"
      ]
     },
     "execution_count": 22,
     "metadata": {},
     "output_type": "execute_result"
    }
   ],
   "source": [
    "P = np.arange(1, 21) \n",
    "P"
   ]
  },
  {
   "cell_type": "code",
   "execution_count": 21,
   "id": "31c1f090",
   "metadata": {},
   "outputs": [
    {
     "data": {
      "text/plain": [
       "[0.0,\n",
       " 1.0,\n",
       " -1.0,\n",
       " 2.0,\n",
       " -2.0,\n",
       " 3.0,\n",
       " -3.0,\n",
       " 4.0,\n",
       " -4.0,\n",
       " 5.0,\n",
       " -5.0,\n",
       " 6.0,\n",
       " -6.0,\n",
       " 7.0,\n",
       " -7.0,\n",
       " 8.0,\n",
       " -8.0,\n",
       " 9.0,\n",
       " -9.0,\n",
       " 10.0]"
      ]
     },
     "execution_count": 21,
     "metadata": {},
     "output_type": "execute_result"
    }
   ],
   "source": [
    "[funcion_biyectiva(p) for p in P]"
   ]
  },
  {
   "cell_type": "code",
   "execution_count": null,
   "id": "5035d74e",
   "metadata": {
    "slideshow": {
     "slide_type": "slide"
    }
   },
   "outputs": [],
   "source": []
  },
  {
   "cell_type": "code",
   "execution_count": null,
   "id": "db33ae4d",
   "metadata": {},
   "outputs": [],
   "source": []
  },
  {
   "cell_type": "markdown",
   "id": "3d78be5c",
   "metadata": {
    "slideshow": {
     "slide_type": "slide"
    }
   },
   "source": [
    "# Tareas de adquisición de habilidades y fijación de conceptos"
   ]
  },
  {
   "cell_type": "markdown",
   "id": "d62adf92",
   "metadata": {},
   "source": [
    "1. $x + 1 = 0$\n",
    "\n",
    "2. $2x + 1 = 0$\n",
    "3. $3x - 1= 0$\n",
    "4. $\\frac{1}{2}x + 1= 0$\n",
    "5. $\\sqrt{2}x - 1 = 0$"
   ]
  },
  {
   "cell_type": "markdown",
   "id": "37381858",
   "metadata": {
    "slideshow": {
     "slide_type": "slide"
    }
   },
   "source": [
    "## Evaluación \n",
    "\n"
   ]
  },
  {
   "cell_type": "markdown",
   "id": "dcece4e5",
   "metadata": {},
   "source": [
    "\n",
    "\n",
    "$$ \\frac{1}{x} = 0 $$\n",
    "\n",
    "* diga si es lineal y justifique.\n",
    "* resuelvala y si no tiene solución, diga porque? "
   ]
  },
  {
   "cell_type": "code",
   "execution_count": null,
   "id": "efdcad51",
   "metadata": {},
   "outputs": [],
   "source": []
  }
 ],
 "metadata": {
  "celltoolbar": "Slideshow",
  "kernelspec": {
   "display_name": "Python 3 (ipykernel)",
   "language": "python",
   "name": "python3"
  },
  "language_info": {
   "codemirror_mode": {
    "name": "ipython",
    "version": 3
   },
   "file_extension": ".py",
   "mimetype": "text/x-python",
   "name": "python",
   "nbconvert_exporter": "python",
   "pygments_lexer": "ipython3",
   "version": "3.9.13"
  }
 },
 "nbformat": 4,
 "nbformat_minor": 5
}
