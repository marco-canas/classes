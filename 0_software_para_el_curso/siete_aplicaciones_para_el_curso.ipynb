{
 "cells": [
  {
   "cell_type": "markdown",
   "metadata": {},
   "source": []
  },
  {
   "cell_type": "markdown",
   "metadata": {},
   "source": [
    "# Siete aplicaciones para el aprendizaje y la enseñanza del precálculo o de los fundamentos de las matemáticas\n",
    "\n",
    "[Video de apoyo](https://www.youtube.com/watch?v=nXY89h8N2C8)\n"
   ]
  },
  {
   "cell_type": "markdown",
   "metadata": {},
   "source": [
    "\n",
    "1. [Google Colab](https://colab.research.google.com/drive/10H7_xpFtxe89SIogiHfm9TyZ7VG23v0M#scrollTo=3XmbKBZUASiX)\n",
    "2. [Symbolab]()\n",
    "3. [WolframAlpha](https://www.wolframalpha.com/input?i=y%3Dx&lang=es)\n",
    "4. [Mathway](https://www.mathway.com/es/Algebra)\n",
    "5. [Photomath](https://photomath.com/es)\n",
    "6. [GeoGebra](https://www.geogebra.org/) \n",
    "7. [La red social GitHub](https://github.com/marco-canas) "
   ]
  },
  {
   "cell_type": "code",
   "execution_count": null,
   "metadata": {},
   "outputs": [],
   "source": []
  },
  {
   "cell_type": "code",
   "execution_count": null,
   "metadata": {},
   "outputs": [],
   "source": []
  },
  {
   "cell_type": "code",
   "execution_count": null,
   "metadata": {},
   "outputs": [],
   "source": []
  },
  {
   "cell_type": "code",
   "execution_count": null,
   "metadata": {},
   "outputs": [],
   "source": []
  },
  {
   "cell_type": "code",
   "execution_count": null,
   "metadata": {},
   "outputs": [],
   "source": []
  },
  {
   "cell_type": "code",
   "execution_count": null,
   "metadata": {},
   "outputs": [],
   "source": []
  },
  {
   "cell_type": "code",
   "execution_count": null,
   "metadata": {},
   "outputs": [],
   "source": []
  }
 ],
 "metadata": {
  "language_info": {
   "name": "python"
  },
  "orig_nbformat": 4
 },
 "nbformat": 4,
 "nbformat_minor": 2
}
